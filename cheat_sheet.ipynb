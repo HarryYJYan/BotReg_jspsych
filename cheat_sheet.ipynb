{
 "cells": [
  {
   "cell_type": "code",
   "execution_count": 29,
   "metadata": {},
   "outputs": [],
   "source": [
    "import os\n",
    "import json "
   ]
  },
  {
   "cell_type": "code",
   "execution_count": 5,
   "metadata": {},
   "outputs": [
    {
     "data": {
      "text/plain": [
       "['../stim/bb09.png',\n",
       " '../stim/bb08.png',\n",
       " '../stim/.DS_Store',\n",
       " '../stim/rh01.png',\n",
       " '../stim/rb09.png',\n",
       " '../stim/rb08.png',\n",
       " '../stim/rb11.png',\n",
       " '../stim/rb05.png',\n",
       " '../stim/rb04.png',\n",
       " '../stim/rb10.png',\n",
       " '../stim/rb06.png',\n",
       " '../stim/rb12.png',\n",
       " '../stim/rb07.png',\n",
       " '../stim/rb03.png',\n",
       " '../stim/rb02.png',\n",
       " '../stim/rb01.png',\n",
       " '../stim/bb03.png',\n",
       " '../stim/bb02.png',\n",
       " '../stim/bb01.png',\n",
       " '../stim/bb05.png',\n",
       " '../stim/bb04.png',\n",
       " '../stim/bb06.png',\n",
       " '../stim/bb07.png']"
      ]
     },
     "execution_count": 5,
     "metadata": {},
     "output_type": "execute_result"
    }
   ],
   "source": [
    "[\"../stim/\"+ i for i in os.listdir(\"stim/\")]"
   ]
  },
  {
   "cell_type": "code",
   "execution_count": 36,
   "metadata": {},
   "outputs": [
    {
     "name": "stdout",
     "output_type": "stream",
     "text": [
      "{stimulus:\" stim/bb09.png\", correct_response:\"f\"},\n",
      "{stimulus:\" stim/bb08.png\", correct_response:\"f\"},\n",
      "{stimulus:\" stim/.DS_Store\", correct_response:\"f\"},\n",
      "{stimulus:\" stim/rh01.png\", correct_response:\"f\"},\n",
      "{stimulus:\" stim/rb09.png\", correct_response:\"f\"},\n",
      "{stimulus:\" stim/rb08.png\", correct_response:\"f\"},\n",
      "{stimulus:\" stim/rb11.png\", correct_response:\"f\"},\n",
      "{stimulus:\" stim/rb05.png\", correct_response:\"f\"},\n",
      "{stimulus:\" stim/rb04.png\", correct_response:\"f\"},\n",
      "{stimulus:\" stim/rb10.png\", correct_response:\"f\"},\n",
      "{stimulus:\" stim/rb06.png\", correct_response:\"f\"},\n",
      "{stimulus:\" stim/rb12.png\", correct_response:\"f\"},\n",
      "{stimulus:\" stim/rb07.png\", correct_response:\"f\"},\n",
      "{stimulus:\" stim/rb03.png\", correct_response:\"f\"},\n",
      "{stimulus:\" stim/rb02.png\", correct_response:\"f\"},\n",
      "{stimulus:\" stim/rb01.png\", correct_response:\"f\"},\n",
      "{stimulus:\" stim/bb03.png\", correct_response:\"f\"},\n",
      "{stimulus:\" stim/bb02.png\", correct_response:\"f\"},\n",
      "{stimulus:\" stim/bb01.png\", correct_response:\"f\"},\n",
      "{stimulus:\" stim/bb05.png\", correct_response:\"f\"},\n",
      "{stimulus:\" stim/bb04.png\", correct_response:\"f\"},\n",
      "{stimulus:\" stim/bb06.png\", correct_response:\"f\"},\n",
      "{stimulus:\" stim/bb07.png\", correct_response:\"f\"},\n"
     ]
    }
   ],
   "source": [
    "for i in os.listdir(\"stim/\"):\n",
    "    d = {\"stimulus\": \"stim/{}\".format(i), \"correct_response\": \"f\"}\n",
    "    #d = json.dumps(stim_dict)  +\",\"\n",
    "    print(\"{\" + \"stimulus\" + \":\\\" \" + d[\"stimulus\"] + \"\\\", \" + \"correct_response\" + \":\\\"\" + d[\"correct_response\"] + \"\\\"},\")\n",
    "\n"
   ]
  },
  {
   "cell_type": "code",
   "execution_count": 25,
   "metadata": {},
   "outputs": [
    {
     "data": {
      "text/plain": [
       "['bb09.png',\n",
       " 'bb08.png',\n",
       " '.DS_Store',\n",
       " 'rh01.png',\n",
       " 'rb09.png',\n",
       " 'rb08.png',\n",
       " 'rb11.png',\n",
       " 'rb05.png',\n",
       " 'rb04.png',\n",
       " 'rb10.png',\n",
       " 'rb06.png',\n",
       " 'rb12.png',\n",
       " 'rb07.png',\n",
       " 'rb03.png',\n",
       " 'rb02.png',\n",
       " 'rb01.png',\n",
       " 'bb03.png',\n",
       " 'bb02.png',\n",
       " 'bb01.png',\n",
       " 'bb05.png',\n",
       " 'bb04.png',\n",
       " 'bb06.png',\n",
       " 'bb07.png']"
      ]
     },
     "execution_count": 25,
     "metadata": {},
     "output_type": "execute_result"
    }
   ],
   "source": [
    "os.listdir(\"stim/\")"
   ]
  },
  {
   "cell_type": "code",
   "execution_count": 28,
   "metadata": {},
   "outputs": [
    {
     "ename": "KeyError",
     "evalue": "'stimulus'",
     "output_type": "error",
     "traceback": [
      "\u001b[0;31m---------------------------------------------------------------------------\u001b[0m",
      "\u001b[0;31mKeyError\u001b[0m                                  Traceback (most recent call last)",
      "\u001b[1;32m/Users/harryan/Desktop/jsPsych/cheat_sheet.ipynb Cell 5\u001b[0m in \u001b[0;36m<cell line: 1>\u001b[0;34m()\u001b[0m\n\u001b[0;32m----> <a href='vscode-notebook-cell:/Users/harryan/Desktop/jsPsych/cheat_sheet.ipynb#W3sZmlsZQ%3D%3D?line=0'>1</a>\u001b[0m \u001b[39mprint\u001b[39m(\u001b[39m'\u001b[39;49m\u001b[39m{\u001b[39;49m\u001b[39mstimulus: \u001b[39;49m\u001b[39m\"\u001b[39;49m\u001b[39mstim/\u001b[39;49m\u001b[39m{}\u001b[39;49;00m\u001b[39m\"\u001b[39;49m\u001b[39m, correct_response: \u001b[39;49m\u001b[39m\"\u001b[39;49m\u001b[39mf\u001b[39;49m\u001b[39m\"\u001b[39;49m\u001b[39m}\u001b[39;49m\u001b[39m'\u001b[39;49m\u001b[39m.\u001b[39;49mformat(os\u001b[39m.\u001b[39;49mlistdir(\u001b[39m\"\u001b[39;49m\u001b[39mstim/\u001b[39;49m\u001b[39m\"\u001b[39;49m)[\u001b[39m0\u001b[39;49m]))\n",
      "\u001b[0;31mKeyError\u001b[0m: 'stimulus'"
     ]
    }
   ],
   "source": [
    "print('{stimulus: \"stim/{}\", correct_response: \"f\"}'.format(os.listdir(\"stim/\")[0]))"
   ]
  },
  {
   "cell_type": "code",
   "execution_count": null,
   "metadata": {},
   "outputs": [],
   "source": []
  }
 ],
 "metadata": {
  "kernelspec": {
   "display_name": "Python 3.10.8 64-bit",
   "language": "python",
   "name": "python3"
  },
  "language_info": {
   "codemirror_mode": {
    "name": "ipython",
    "version": 3
   },
   "file_extension": ".py",
   "mimetype": "text/x-python",
   "name": "python",
   "nbconvert_exporter": "python",
   "pygments_lexer": "ipython3",
   "version": "3.10.8"
  },
  "orig_nbformat": 4,
  "vscode": {
   "interpreter": {
    "hash": "7e1998ff7f8aa20ada591c520b972326324e5ea05489af9e422744c7c09f6dad"
   }
  }
 },
 "nbformat": 4,
 "nbformat_minor": 2
}
